{
 "cells": [
  {
   "cell_type": "code",
   "execution_count": 7,
   "metadata": {},
   "outputs": [
    {
     "name": "stdout",
     "output_type": "stream",
     "text": [
      "CPU times: user 699 ms, sys: 94.5 ms, total: 794 ms\n",
      "Wall time: 412 ms\n"
     ]
    },
    {
     "name": "stderr",
     "output_type": "stream",
     "text": [
      "Trying to unpickle estimator StandardScaler from version 1.1.2 when using version 1.2.0. This might lead to breaking code or invalid results. Use at your own risk. For more info please refer to:\n",
      "https://scikit-learn.org/stable/model_persistence.html#security-maintainability-limitations\n"
     ]
    }
   ],
   "source": [
    "%%time\n",
    "import numpy as np\n",
    "import pandas as pd\n",
    "import torch\n",
    "import shap\n",
    "from hydra import initialize, compose\n",
    "from lstm_model import RegressionLSTM\n",
    "from pickle import load\n",
    "from transformer.transformer_model import CMIPTimeSeriesDataset\n",
    "\n",
    "with initialize(version_base=None, config_path=\"conf\"):\n",
    "    cfg = compose(config_name=\"config\")\n",
    "\n",
    "model = RegressionLSTM(num_sensors=len(cfg.model.input), hidden_units=cfg.model.hidden_units,cfg=cfg)\n",
    "model_name = cfg.run_name\n",
    "checkpoint = torch.load(f'{cfg.project}/checkpoint/lstm_checkpoint_{model_name}.pt')\n",
    "#if distributed training, remove module. from keys\n",
    "for key in list(checkpoint['model_state_dict'].keys()):\n",
    "    checkpoint['model_state_dict'][key.replace('module.', '')] = checkpoint['model_state_dict'].pop(key)\n",
    "model.load_state_dict(checkpoint['model_state_dict'])\n",
    "final_input = pd.read_csv(f'{cfg.data}/observed_timeseries30_data.csv')\n",
    "\n",
    "scaler = load(open(f'{cfg.project}/checkpoint/lstm_scaler_{cfg.run_name}.pkl', 'rb'))\n",
    "final_input.loc[:,tuple(cfg.model.input)] = scaler.transform(final_input[cfg.model.input])\n",
    "final_input= final_input[cfg.model.input + cfg.model.id]\n",
    "ds = CMIPTimeSeriesDataset(final_input,cfg.model.seq_len,len(cfg.model.input) + len(cfg.model.id),cfg)\n",
    "final_input = torch.tensor(ds.data[:,:,:6]).float()\n"
   ]
  },
  {
   "cell_type": "code",
   "execution_count": 3,
   "metadata": {},
   "outputs": [
    {
     "data": {
      "text/plain": [
       "tensor([[ 9.7207e+04,  2.8156e+02,  5.1975e+01,  ...,  1.9840e+03,\n",
       "          4.3822e+01, -8.0000e+01],\n",
       "        [ 9.7125e+04,  2.8152e+02,  5.2061e+01,  ...,  1.9850e+03,\n",
       "          4.3822e+01, -8.0000e+01],\n",
       "        [ 9.7197e+04,  2.8165e+02,  5.3105e+01,  ...,  1.9860e+03,\n",
       "          4.3822e+01, -8.0000e+01],\n",
       "        ...,\n",
       "        [ 1.0008e+05,  2.7474e+02,  2.4532e+01,  ...,  2.0170e+03,\n",
       "          6.8325e+01, -1.2875e+02],\n",
       "        [ 1.0023e+05,  2.7340e+02,  2.5560e+01,  ...,  2.0180e+03,\n",
       "          6.8325e+01, -1.2875e+02],\n",
       "        [ 1.0025e+05,  2.7369e+02,  2.6312e+01,  ...,  2.0190e+03,\n",
       "          6.8325e+01, -1.2875e+02]])"
      ]
     },
     "execution_count": 3,
     "metadata": {},
     "output_type": "execute_result"
    }
   ],
   "source": []
  },
  {
   "cell_type": "code",
   "execution_count": 8,
   "metadata": {},
   "outputs": [],
   "source": [
    "e = shap.KernelExplainer(\n",
    "        model, \n",
    "        final_input)\n",
    "\n",
    "\n",
    "#         %%time\n",
    "# x_samples = x_train[np.random.choice(np.arange(len(x_train)), 300, replace=False)]\n",
    "# print(len(x_samples))\n",
    "# shap_values = e.shap_values(\n",
    "#     torch.from_numpy(x_samples).to(DEVICE)\n",
    "# )\n"
   ]
  },
  {
   "cell_type": "code",
   "execution_count": 11,
   "metadata": {},
   "outputs": [
    {
     "data": {
      "text/plain": [
       "3311"
      ]
     },
     "execution_count": 11,
     "metadata": {},
     "output_type": "execute_result"
    }
   ],
   "source": [
    "len(final_input)"
   ]
  },
  {
   "cell_type": "code",
   "execution_count": 50,
   "metadata": {},
   "outputs": [
    {
     "name": "stdout",
     "output_type": "stream",
     "text": [
      "10\n",
      "torch.Size([10, 30, 6])\n"
     ]
    },
    {
     "name": "stderr",
     "output_type": "stream",
     "text": [
      "Using non-full backward hooks on a Module that does not return a single Tensor or a tuple of Tensors is deprecated and will be removed in future versions. This hook will be missing some of the grad_output. Please use register_full_backward_hook to get the documented behavior.\n",
      "Using a non-full backward hook when the forward contains multiple autograd Nodes is deprecated and will be removed in future versions. This hook will be missing some grad_input. Please use register_full_backward_hook to get the documented behavior.\n"
     ]
    }
   ],
   "source": [
    "x_samples = final_input[np.random.choice(np.arange(len(final_input)), 10, replace=False)]\n",
    "print(len(x_samples))\n",
    "print(x_samples.shape)\n",
    "shap_values = e.shap_values(\n",
    "    x_samples\n",
    ")"
   ]
  },
  {
   "cell_type": "code",
   "execution_count": 39,
   "metadata": {},
   "outputs": [
    {
     "data": {
      "text/html": [
       "<div>\n",
       "<style scoped>\n",
       "    .dataframe tbody tr th:only-of-type {\n",
       "        vertical-align: middle;\n",
       "    }\n",
       "\n",
       "    .dataframe tbody tr th {\n",
       "        vertical-align: top;\n",
       "    }\n",
       "\n",
       "    .dataframe thead th {\n",
       "        text-align: right;\n",
       "    }\n",
       "</style>\n",
       "<table border=\"1\" class=\"dataframe\">\n",
       "  <thead>\n",
       "    <tr style=\"text-align: right;\">\n",
       "      <th></th>\n",
       "      <th>mean_abs_shap</th>\n",
       "      <th>stdev_abs_shap</th>\n",
       "    </tr>\n",
       "  </thead>\n",
       "  <tbody>\n",
       "    <tr>\n",
       "      <th>1</th>\n",
       "      <td>0.040724</td>\n",
       "      <td>0.001089</td>\n",
       "    </tr>\n",
       "    <tr>\n",
       "      <th>4</th>\n",
       "      <td>0.032072</td>\n",
       "      <td>0.001155</td>\n",
       "    </tr>\n",
       "    <tr>\n",
       "      <th>5</th>\n",
       "      <td>0.022579</td>\n",
       "      <td>0.000587</td>\n",
       "    </tr>\n",
       "    <tr>\n",
       "      <th>0</th>\n",
       "      <td>0.017334</td>\n",
       "      <td>0.000589</td>\n",
       "    </tr>\n",
       "    <tr>\n",
       "      <th>3</th>\n",
       "      <td>0.007983</td>\n",
       "      <td>0.000701</td>\n",
       "    </tr>\n",
       "    <tr>\n",
       "      <th>2</th>\n",
       "      <td>0.007928</td>\n",
       "      <td>0.000636</td>\n",
       "    </tr>\n",
       "  </tbody>\n",
       "</table>\n",
       "</div>"
      ],
      "text/plain": [
       "   mean_abs_shap  stdev_abs_shap\n",
       "1       0.040724        0.001089\n",
       "4       0.032072        0.001155\n",
       "5       0.022579        0.000587\n",
       "0       0.017334        0.000589\n",
       "3       0.007983        0.000701\n",
       "2       0.007928        0.000636"
      ]
     },
     "execution_count": 39,
     "metadata": {},
     "output_type": "execute_result"
    }
   ],
   "source": [
    "import pandas as pd\n",
    "df = pd.DataFrame({\n",
    "    \"mean_abs_shap\": np.mean(np.mean(np.abs(shap_values), axis=0),axis=1)[0], \n",
    "    \"stdev_abs_shap\": np.std(np.abs(np.abs(shap_values)[0]),axis=1)[0],\n",
    "})\n",
    "df.sort_values(\"mean_abs_shap\", ascending=False)[:10]"
   ]
  },
  {
   "cell_type": "code",
   "execution_count": 60,
   "metadata": {},
   "outputs": [],
   "source": [
    "x_reshaped = x_samples.reshape(-1,6)"
   ]
  },
  {
   "cell_type": "code",
   "execution_count": 61,
   "metadata": {},
   "outputs": [],
   "source": [
    "shap_reshaped = shap_values[0].reshape(-1,6)"
   ]
  },
  {
   "cell_type": "code",
   "execution_count": 63,
   "metadata": {},
   "outputs": [
    {
     "data": {
      "text/plain": [
       "(300, 6)"
      ]
     },
     "execution_count": 63,
     "metadata": {},
     "output_type": "execute_result"
    }
   ],
   "source": [
    "shap_reshaped.shape"
   ]
  },
  {
   "cell_type": "code",
   "execution_count": 64,
   "metadata": {},
   "outputs": [
    {
     "data": {
      "image/png": "[encoded data removed]",
      "text/plain": [
       "<Figure size 576x280.8 with 2 Axes>"
      ]
     },
     "metadata": {
      "needs_background": "light"
     },
     "output_type": "display_data"
    }
   ],
   "source": [
    "shap.summary_plot(shap_reshaped, features=x_reshaped, feature_names=['ps','tsl','treeFrac','pr','tas_DJF','tas_JJA'])\n"
   ]
  }
 ],
 "metadata": {
  "kernelspec": {
   "display_name": "env",
   "language": "python",
   "name": "python3"
  },
  "language_info": {
   "codemirror_mode": {
    "name": "ipython",
    "version": 3
   },
   "file_extension": ".py",
   "mimetype": "text/x-python",
   "name": "python",
   "nbconvert_exporter": "python",
   "pygments_lexer": "ipython3",
   "version": "3.9.1"
  },
  "orig_nbformat": 4,
  "vscode": {
   "interpreter": {
    "hash": "268ec44076fd2df7fec26bbac46d7be918e1f9b37934d455d4264e66a92714db"
   }
  }
 },
 "nbformat": 4,
 "nbformat_minor": 2
}
