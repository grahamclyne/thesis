{
 "cells": [
  {
   "cell_type": "code",
   "execution_count": 37,
   "metadata": {},
   "outputs": [
    {
     "name": "stderr",
     "output_type": "stream",
     "text": [
      "/Users/gclyne/thesis/env/lib/python3.9/site-packages/xarray/conventions.py:521: SerializationWarning: variable 'cLand' has multiple fill values {1e+20, 1e+20}, decoding all values to NaN.\n",
      "  new_vars[k] = decode_cf_variable(\n",
      "/Users/gclyne/thesis/env/lib/python3.9/site-packages/xarray/conventions.py:521: SerializationWarning: variable 'cSoil' has multiple fill values {1e+20, 1e+20}, decoding all values to NaN.\n",
      "  new_vars[k] = decode_cf_variable(\n",
      "/Users/gclyne/thesis/env/lib/python3.9/site-packages/xarray/conventions.py:521: SerializationWarning: variable 'cLitter' has multiple fill values {1e+20, 1e+20}, decoding all values to NaN.\n",
      "  new_vars[k] = decode_cf_variable(\n",
      "/Users/gclyne/thesis/env/lib/python3.9/site-packages/xarray/conventions.py:521: SerializationWarning: variable 'cCwd' has multiple fill values {1e+20, 1e+20}, decoding all values to NaN.\n",
      "  new_vars[k] = decode_cf_variable(\n",
      "/Users/gclyne/thesis/env/lib/python3.9/site-packages/xarray/conventions.py:521: SerializationWarning: variable 'cVeg' has multiple fill values {1e+20, 1e+20}, decoding all values to NaN.\n",
      "  new_vars[k] = decode_cf_variable(\n"
     ]
    }
   ],
   "source": [
    "import xarray as xr\n",
    "import geopandas \n",
    "import config\n",
    "import numpy as np\n",
    "land = xr.open_dataset('~/Downloads/cLand_Emon_CESM2_land-hist_r1i1p1f1_gn_185001-201512.nc')\n",
    "shape_file = geopandas.read_file(f'{config.SHAPEFILE_PATH}NABoreal.shp', crs=\"epsg:4326\")\n",
    "canada_shape_file = geopandas.read_file(f'{config.SHAPEFILE_PATH}lpr_000b21a_e/lpr_000b21a_e.shp')\n",
    "soil = xr.open_dataset('~/Downloads/cSoil_Emon_CESM2_land-hist_r1i1p1f1_gn_185001-201512.nc')\n",
    "litter = xr.open_dataset('~/Downloads/cLitter_Lmon_CESM2_land-hist_r1i1p1f1_gn_185001-201512.nc')\n",
    "cwd = xr.open_dataset('~/Downloads/cCwd_Lmon_CESM2_land-hist_r1i1p1f1_gn_185001-201512.nc')\n",
    "veg = xr.open_dataset('~/thesis/data/CESM/cVeg_Lmon_CESM2_land-hist_r1i1p1f1_gn_185001-201512.nc')\n"
   ]
  },
  {
   "cell_type": "code",
   "execution_count": 36,
   "metadata": {},
   "outputs": [],
   "source": [
    "from shapely.geometry import mapping \n",
    "#need to check why mod makes this break ------ long180 = (long360 + 180) % 360 - 180\n",
    "def netcdfToNumpy(netcdf_file,variable,shape_file,canada_shape_file):\n",
    "    netcdf_file['lon'] = netcdf_file['lon'] - 360 if np.any(netcdf_file['lon'] > 180) else netcdf_file['lon']\n",
    "    netcdf_file = netcdf_file.groupby('time.year').mean()\n",
    "    netcdf_file = netcdf_file.sel(year=netcdf_file.year>=1949)\n",
    "    netcdf_file = netcdf_file[variable]\n",
    "    netcdf_file.rio.set_spatial_dims(x_dim=\"lon\", y_dim=\"lat\", inplace=True)\n",
    "    netcdf_file.rio.write_crs(\"epsg:4326\", inplace=True)\n",
    "    clipped = netcdf_file.rio.clip(shape_file.geometry.apply(mapping), shape_file.crs,drop=True)\n",
    "    clipped = clipped.rio.clip(canada_shape_file.geometry.apply(mapping), canada_shape_file.crs,drop=True)\n",
    "\n",
    "    df = clipped.to_dataframe().reset_index()\n",
    "    df = df[df[variable].notna()]\n",
    "    return df[[variable]].values\n"
   ]
  },
  {
   "cell_type": "code",
   "execution_count": 38,
   "metadata": {},
   "outputs": [],
   "source": [
    "soil_arr = netcdfToNumpy(soil,'cSoil',shape_file,canada_shape_file)\n",
    "litter_arr = netcdfToNumpy(litter,'cLitter',shape_file,canada_shape_file)\n",
    "cwd_arr = netcdfToNumpy(cwd,'cCwd',shape_file,canada_shape_file)\n",
    "veg_arr = netcdfToNumpy(veg,'cVeg',shape_file,canada_shape_file)\n",
    "totalc_arr = netcdfToNumpy(land,'cLand',shape_file,canada_shape_file)"
   ]
  },
  {
   "cell_type": "code",
   "execution_count": 39,
   "metadata": {},
   "outputs": [
    {
     "data": {
      "text/plain": [
       "array([[ 30.139626],\n",
       "       [ 22.81026 ],\n",
       "       [ 22.800957],\n",
       "       ...,\n",
       "       [307.94034 ],\n",
       "       [213.16951 ],\n",
       "       [176.8477  ]], dtype=float32)"
      ]
     },
     "execution_count": 39,
     "metadata": {},
     "output_type": "execute_result"
    }
   ],
   "source": [
    "soil_arr + litter_arr + cwd_arr + veg_arr"
   ]
  },
  {
   "cell_type": "code",
   "execution_count": 40,
   "metadata": {},
   "outputs": [
    {
     "data": {
      "text/plain": [
       "array([[ 30.139626],\n",
       "       [ 22.810259],\n",
       "       [ 22.800955],\n",
       "       ...,\n",
       "       [307.94034 ],\n",
       "       [213.16951 ],\n",
       "       [176.8477  ]], dtype=float32)"
      ]
     },
     "execution_count": 40,
     "metadata": {},
     "output_type": "execute_result"
    }
   ],
   "source": [
    "totalc_arr #aka cLand"
   ]
  }
 ],
 "metadata": {
  "interpreter": {
   "hash": "1e0c4f7d72d6763faf0104f2098797ce8b3918906d1e9314e43a03dbc110a505"
  },
  "kernelspec": {
   "display_name": "Python 3.9.1 64-bit ('3.9.1')",
   "language": "python",
   "name": "python3"
  },
  "language_info": {
   "codemirror_mode": {
    "name": "ipython",
    "version": 3
   },
   "file_extension": ".py",
   "mimetype": "text/x-python",
   "name": "python",
   "nbconvert_exporter": "python",
   "pygments_lexer": "ipython3",
   "version": "3.9.1"
  },
  "orig_nbformat": 4
 },
 "nbformat": 4,
 "nbformat_minor": 2
}
