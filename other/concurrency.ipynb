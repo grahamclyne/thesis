{
 "cells": [
  {
   "cell_type": "code",
   "execution_count": null,
   "metadata": {},
   "outputs": [],
   "source": [
    "import numpy as np\n",
    "data = np.genfromtxt('/Users/gclyne/thesis/data/CESM/cesm_data.csv',delimiter=',')\n",
    "eleven = data[data[:,-3] == 2011]\n",
    "veg = eleven[:,3]\n",
    "year = eleven[:,-3]\n",
    "lat = eleven[:,-2]\n",
    "lon = eleven[:,-1]\n",
    "latlon = np.concatenate((lat.reshape(-1,1),lon.reshape(-1,1)),1)\n",
    "latlon = list(map(lambda x: str(x[0]) + \",\" +  str(x[1]),latlon))"
   ]
  },
  {
   "cell_type": "code",
   "execution_count": 113,
   "metadata": {},
   "outputs": [],
   "source": [
    "import pandas as pd\n",
    "\n",
    "cesm_data = pd.read_csv('/Users/gclyne/thesis/data/CESM/cesm_data.csv')\n",
    "data = np.genfromtxt(f'/Users/gclyne/thesis/data/CESM/cesm_data.csv',delimiter=',',skip_header=1)\n"
   ]
  },
  {
   "cell_type": "code",
   "execution_count": 57,
   "metadata": {},
   "outputs": [],
   "source": [
    "from sklearn import preprocessing\n",
    "min_max_scaler = preprocessing.MinMaxScaler(feature_range=(0,1))\n"
   ]
  },
  {
   "cell_type": "code",
   "execution_count": 58,
   "metadata": {},
   "outputs": [
    {
     "data": {
      "text/plain": [
       "5.364418029785156e-07"
      ]
     },
     "execution_count": 58,
     "metadata": {},
     "output_type": "execute_result"
    }
   ],
   "source": [
    "sum(data[0][-8:-4]) - data[0][-4]\n"
   ]
  },
  {
   "cell_type": "code",
   "execution_count": 59,
   "metadata": {},
   "outputs": [
    {
     "data": {
      "text/plain": [
       "1.0400685165436803"
      ]
     },
     "execution_count": 59,
     "metadata": {},
     "output_type": "execute_result"
    }
   ],
   "source": [
    "sum(data_scaled[0][-8:-4]) - data_scaled[0][-4]"
   ]
  },
  {
   "cell_type": "code",
   "execution_count": 95,
   "metadata": {},
   "outputs": [],
   "source": [
    "scaler = min_max_scaler.fit(cesm_data[['cLand']])\n"
   ]
  },
  {
   "cell_type": "code",
   "execution_count": 114,
   "metadata": {},
   "outputs": [
    {
     "data": {
      "text/plain": [
       "-0.0023213779142485028"
      ]
     },
     "execution_count": 114,
     "metadata": {},
     "output_type": "execute_result"
    }
   ],
   "source": [
    "ds = data[data[:,-3] < 2015]\n",
    "final_test = data[data[:,-3] == 2015] \n",
    "scaler = min_max_scaler.fit(ds[:,[-4]])\n",
    "# scaled_x = scaler.transform((ds[:,-8:-4],4))\n",
    "ds[:,[-5]] = scaler.transform(ds[:,[-5]])\n",
    "ds[:,[-6]] = scaler.transform(ds[:,[-6]])\n",
    "ds[:,[-7]] = scaler.transform(ds[:,[-7]])\n",
    "ds[:,[-8]] = scaler.transform(ds[:,[-8]])\n",
    "target = scaler.transform(ds[:,[-4]])\n",
    "sum(ds[100][-8:-4]) - target[100][0] "
   ]
  },
  {
   "cell_type": "code",
   "execution_count": 115,
   "metadata": {},
   "outputs": [
    {
     "data": {
      "text/plain": [
       "array([[2.66626772e-02, 1.98312991e-02, 4.55426013e-04, 6.41889033e-03,\n",
       "        3.01396255e+01],\n",
       "       [1.94275074e-02, 1.54132558e-02, 1.49578610e-04, 4.64714458e-03,\n",
       "        2.28102589e+01],\n",
       "       [1.91384768e-02, 1.57006499e-02, 1.68035295e-04, 4.61289348e-03,\n",
       "        2.28009548e+01],\n",
       "       ...,\n",
       "       [2.00134394e-03, 5.68116301e-01, 1.93232295e-03, 1.70536163e-03,\n",
       "        3.07917023e+02],\n",
       "       [6.82240941e-04, 3.95102285e-01, 3.65584994e-04, 9.77833929e-07,\n",
       "        2.13113647e+02],\n",
       "       [8.67511158e-04, 3.26698052e-01, 4.36395937e-04, 1.18486238e-04,\n",
       "        1.76799561e+02]])"
      ]
     },
     "execution_count": 115,
     "metadata": {},
     "output_type": "execute_result"
    }
   ],
   "source": [
    "np.concatenate((ds[:,-8:-4],ds[:,[-4]]),1)\n"
   ]
  },
  {
   "cell_type": "code",
   "execution_count": null,
   "metadata": {},
   "outputs": [],
   "source": [
    "import plotly.express as px\n",
    "\n",
    "fig = px.scatter(x=latlon, y=veg)\n",
    "# fig = px.scatter(x=recent[:,-1], y=recent[:,1])\n",
    "\n",
    "fig.show()\n",
    "\n",
    "\n"
   ]
  }
 ],
 "metadata": {
  "interpreter": {
   "hash": "1e0c4f7d72d6763faf0104f2098797ce8b3918906d1e9314e43a03dbc110a505"
  },
  "kernelspec": {
   "display_name": "Python 3.9.1 64-bit ('3.9.1')",
   "language": "python",
   "name": "python3"
  },
  "language_info": {
   "codemirror_mode": {
    "name": "ipython",
    "version": 3
   },
   "file_extension": ".py",
   "mimetype": "text/x-python",
   "name": "python",
   "nbconvert_exporter": "python",
   "pygments_lexer": "ipython3",
   "version": "3.9.1"
  },
  "orig_nbformat": 4
 },
 "nbformat": 4,
 "nbformat_minor": 2
}
