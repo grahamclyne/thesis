{
 "cells": [
  {
   "cell_type": "code",
   "execution_count": 10,
   "metadata": {},
   "outputs": [
    {
     "name": "stdout",
     "output_type": "stream",
     "text": [
      "<Process name='Process-18' pid=59258 parent=59033 stopped exitcode=0>\n"
     ]
    }
   ],
   "source": [
    "from multiprocessing import Process\n",
    "from utils import getMODISLAI\n",
    "import ee\n",
    "def f(num):\n",
    "    return num * num\n",
    "\n",
    "if __name__ == '__main__':\n",
    "    # for i in range(0,10,1):\n",
    "    ee.Initialize()\n",
    "    p = Process(target=getMODISLAI, args=(60,-120,61,-118,2010,))\n",
    "    p.start()\n",
    "    p.join()\n",
    "    print(p)"
   ]
  },
  {
   "cell_type": "code",
   "execution_count": 1,
   "metadata": {},
   "outputs": [],
   "source": [
    "import rioxarray\n",
    "year = 2000\n",
    "nfis_tif = rioxarray.open_rasterio(f'/Users/gclyne/Downloads/CA_forest_VLCE2_{year}/CA_forest_VLCE2_{year}.tif',decode_coords='all')\n"
   ]
  },
  {
   "cell_type": "code",
   "execution_count": 4,
   "metadata": {},
   "outputs": [
    {
     "name": "stdout",
     "output_type": "stream",
     "text": [
      "[412.19900257006236, 7.162171245093047, 58.681575856809395]\n",
      "multi took 21.560444831848145 seconds\n"
     ]
    }
   ],
   "source": [
    "import multiprocessing\n",
    "from utils import getMODISLAI,elevation\n",
    "import time\n",
    "\n",
    "\n",
    "if __name__ == \"__main__\":\n",
    "    start = time.time()\n",
    "    manager = multiprocessing.Manager()\n",
    "    return_dict = manager.dict()\n",
    "    jobs = []\n",
    "\n",
    "    p = multiprocessing.Process(target=getMODISLAI, args=(60,-120,61,-118,2010,0, return_dict))\n",
    "    p1 = multiprocessing.Process(target=elevation, args=(60,-120,61,-118,1, return_dict))\n",
    "    p2 = multiprocessing.Process(target=getNFISAverage, args=(60,-120,61,-118,2, return_dict))\n",
    "    jobs.append(p)\n",
    "    jobs.append(p1)\n",
    "    jobs.append(p2)\n",
    "    p.start()\n",
    "    p1.start()\n",
    "    p2.start()\n",
    "\n",
    "    for proc in jobs:\n",
    "        proc.join()\n",
    "    print(return_dict.values())\n",
    "    print(f'multi took {time.time()  - start} seconds')"
   ]
  },
  {
   "cell_type": "code",
   "execution_count": 1,
   "metadata": {},
   "outputs": [
    {
     "name": "stdout",
     "output_type": "stream",
     "text": [
      "single took 17.71528387069702 seconds\n"
     ]
    }
   ],
   "source": [
    "from utils import getMODISLAI,elevation,getNFISAverage\n",
    "import time\n",
    "\n",
    "start = time.time()\n",
    "getNFISAverage(60,-120,61,-118,2,{})\n",
    "getMODISLAI(60,-120,61,-118,2010,0, {})\n",
    "elevation(60,-120,61,-118,0,{})\n",
    "print(f'single took {time.time() - start} seconds')"
   ]
  },
  {
   "cell_type": "code",
   "execution_count": 1,
   "metadata": {},
   "outputs": [],
   "source": [
    "import csv \n",
    "boreal_coordinates = []\n",
    "ordered_latitudes = []\n",
    "ordered_longitudes = []\n",
    "\n",
    "with open('/Users/gclyne/thesis/boreal_latitudes_longitudes.csv', newline='') as csvfile:\n",
    "    spamreader = csv.reader(csvfile, delimiter=',')\n",
    "    for row in spamreader:\n",
    "        boreal_coordinates.append((float(row[0]),float(row[1])))\n",
    "\n"
   ]
  },
  {
   "cell_type": "code",
   "execution_count": 2,
   "metadata": {},
   "outputs": [],
   "source": [
    "x = iter(boreal_coordinates)\n",
    "lat = 60\n",
    "lon = -120\n",
    "next_lat = 61\n",
    "next_lon = -118\n",
    "year = 2000\n",
    "def getCoordinates(latlon):\n",
    "    lat = latlon[0]\n",
    "    lon = latlon[1]\n",
    "    next_lat = lat + 1\n",
    "    next_lon = lon + 1\n",
    "    return lat,lon,next_lat,next_lon"
   ]
  },
  {
   "cell_type": "code",
   "execution_count": 4,
   "metadata": {},
   "outputs": [
    {
     "name": "stdout",
     "output_type": "stream",
     "text": [
      "44.76439666748047 -65.0\n"
     ]
    },
    {
     "ename": "TypeError",
     "evalue": "getRow() missing 1 required positional argument: 'next_lon'",
     "output_type": "error",
     "traceback": [
      "\u001b[0;31m---------------------------------------------------------------------------\u001b[0m",
      "\u001b[0;31mRemoteTraceback\u001b[0m                           Traceback (most recent call last)",
      "\u001b[0;31mRemoteTraceback\u001b[0m: \n\"\"\"\nTraceback (most recent call last):\n  File \"/Users/gclyne/.pyenv/versions/3.9.1/lib/python3.9/multiprocessing/pool.py\", line 125, in worker\n    result = (True, func(*args, **kwds))\nTypeError: getRow() missing 1 required positional argument: 'next_lon'\n\"\"\"",
      "\nThe above exception was the direct cause of the following exception:\n",
      "\u001b[0;31mTypeError\u001b[0m                                 Traceback (most recent call last)",
      "\u001b[1;32m/Users/gclyne/thesis/other/concurrency.ipynb Cell 7'\u001b[0m in \u001b[0;36m<cell line: 6>\u001b[0;34m()\u001b[0m\n\u001b[1;32m     <a href='vscode-notebook-cell:/Users/gclyne/thesis/other/concurrency.ipynb#ch0000007?line=25'>26</a>\u001b[0m     lat,lon,next_lat,next_lon \u001b[39m=\u001b[39m getCoordinates(\u001b[39mnext\u001b[39m(x))\n\u001b[1;32m     <a href='vscode-notebook-cell:/Users/gclyne/thesis/other/concurrency.ipynb#ch0000007?line=27'>28</a>\u001b[0m     x5 \u001b[39m=\u001b[39m p\u001b[39m.\u001b[39mapply_async(getRow,[nfis_tif,year,lat,lon,next_lat,next_lon])\n\u001b[0;32m---> <a href='vscode-notebook-cell:/Users/gclyne/thesis/other/concurrency.ipynb#ch0000007?line=28'>29</a>\u001b[0m \u001b[39mprint\u001b[39m(x1\u001b[39m.\u001b[39;49mget())\n\u001b[1;32m     <a href='vscode-notebook-cell:/Users/gclyne/thesis/other/concurrency.ipynb#ch0000007?line=29'>30</a>\u001b[0m \u001b[39mprint\u001b[39m(x2\u001b[39m.\u001b[39mget())\n\u001b[1;32m     <a href='vscode-notebook-cell:/Users/gclyne/thesis/other/concurrency.ipynb#ch0000007?line=30'>31</a>\u001b[0m \u001b[39mprint\u001b[39m(x3\u001b[39m.\u001b[39mget())\n",
      "File \u001b[0;32m~/.pyenv/versions/3.9.1/lib/python3.9/multiprocessing/pool.py:771\u001b[0m, in \u001b[0;36mApplyResult.get\u001b[0;34m(self, timeout)\u001b[0m\n\u001b[1;32m    <a href='file:///~/.pyenv/versions/3.9.1/lib/python3.9/multiprocessing/pool.py?line=768'>769</a>\u001b[0m     \u001b[39mreturn\u001b[39;00m \u001b[39mself\u001b[39m\u001b[39m.\u001b[39m_value\n\u001b[1;32m    <a href='file:///~/.pyenv/versions/3.9.1/lib/python3.9/multiprocessing/pool.py?line=769'>770</a>\u001b[0m \u001b[39melse\u001b[39;00m:\n\u001b[0;32m--> <a href='file:///~/.pyenv/versions/3.9.1/lib/python3.9/multiprocessing/pool.py?line=770'>771</a>\u001b[0m     \u001b[39mraise\u001b[39;00m \u001b[39mself\u001b[39m\u001b[39m.\u001b[39m_value\n",
      "\u001b[0;31mTypeError\u001b[0m: getRow() missing 1 required positional argument: 'next_lon'"
     ]
    }
   ],
   "source": [
    "import multiprocessing\n",
    "import csv\n",
    "import rioxarray\n",
    "from generate_observable_rows import getRow\n",
    "import xarray as xr\n",
    "if __name__ == '__main__':\n",
    "    file = open('test.csv','w')\n",
    "    writer = csv.writer(file)\n",
    "    p = multiprocessing.Pool(10)\n",
    "    nfis_tif = rioxarray.open_rasterio(f'/Users/gclyne/Downloads/CA_forest_VLCE2_{year}/CA_forest_VLCE2_{year}.tif',decode_coords='all',lock=False)\n",
    "    # era_temp = xr.open_dataset('/Users/gclyne/thesis/data/_2m_temperature.nc',lock=False)\n",
    "\n",
    "    with p: \n",
    "        for i in range(20):\n",
    "            lat,lon,next_lat,next_lon = getCoordinates(next(x))\n",
    "            x1 = p.apply_async(getRow,[nfis_tif,year,lat,lon,next_lat,next_lon])\n",
    "            lat,lon,next_lat,next_lon = getCoordinates(next(x))\n",
    "            print(lat,lon)\n",
    "            x2 = p.apply_async(getRow,[nfis_tif,year,lat,lon,next_lat,next_lon])\n",
    "            lat,lon,next_lat,next_lon = getCoordinates(next(x))\n",
    "\n",
    "            x3 = p.apply_async(getRow,[nfis_tif,year,lat,lon,next_lat,next_lon])\n",
    "            lat,lon,next_lat,next_lon = getCoordinates(next(x))\n",
    "\n",
    "            x4 = p.apply_async(getRow,[nfis_tif,year,lat,lon,next_lat,next_lon])            \n",
    "            lat,lon,next_lat,next_lon = getCoordinates(next(x))\n",
    "\n",
    "            x5 = p.apply_async(getRow,[nfis_tif,year,lat,lon,next_lat,next_lon])\n",
    "        print(x1.get())\n",
    "        print(x2.get())\n",
    "        print(x3.get())\n",
    "        print(x4.get())\n",
    "        print(x5.get())\n"
   ]
  }
 ],
 "metadata": {
  "interpreter": {
   "hash": "1e0c4f7d72d6763faf0104f2098797ce8b3918906d1e9314e43a03dbc110a505"
  },
  "kernelspec": {
   "display_name": "Python 3.9.1 64-bit ('3.9.1')",
   "language": "python",
   "name": "python3"
  },
  "language_info": {
   "codemirror_mode": {
    "name": "ipython",
    "version": 3
   },
   "file_extension": ".py",
   "mimetype": "text/x-python",
   "name": "python",
   "nbconvert_exporter": "python",
   "pygments_lexer": "ipython3",
   "version": "3.9.1"
  },
  "orig_nbformat": 4
 },
 "nbformat": 4,
 "nbformat_minor": 2
}
