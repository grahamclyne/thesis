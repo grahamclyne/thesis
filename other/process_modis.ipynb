{
 "cells": [
  {
   "cell_type": "code",
   "execution_count": null,
   "metadata": {},
   "outputs": [],
   "source": [
    "import pandas as pd \n",
    "import ee \n",
    "import geopandas as gpd\n",
    "import time \n",
    "from argparse import ArgumentParser\n",
    "try:     \n",
    "    ee.Initialize()\n",
    "except:\n",
    "    ee.Authenticate()\n",
    "    ee.Initialize()"
   ]
  },
  {
   "cell_type": "code",
   "execution_count": null,
   "metadata": {},
   "outputs": [],
   "source": [
    "lat = 55\n",
    "lon = -120\n",
    "next_lat = 56\n",
    "next_lon = -118\n",
    "year = 2020\n",
    "\n",
    "\n",
    "b_box = ee.Geometry.BBox(lon,lat,next_lon,next_lat)\n",
    "b_box_bounds = b_box.bounds()\n",
    "start_date = ee.Date(year)\n",
    "end_date = start_date.advance(1,'year')\n",
    "modis = ee.ImageCollection('MODIS/061/MOD15A2H').filterDate(start_date, end_date).filterBounds(b_box_bounds).select('Lai_500m').mean()\n",
    "modis = modis.clip(b_box_bounds)\n",
    "pixelCountStats = modis.reduceRegion(reducer=ee.Reducer.mean(),geometry=b_box,bestEffort=True,maxPixels=1e9,scale=20)\n",
    "output = pixelCountStats.getInfo()\n",
    "if(not output):\n",
    "    return 0 \n",
    "else:\n",
    "    return output['Lai_500m']"
   ]
  }
 ],
 "metadata": {
  "interpreter": {
   "hash": "1e0c4f7d72d6763faf0104f2098797ce8b3918906d1e9314e43a03dbc110a505"
  },
  "kernelspec": {
   "display_name": "Python 3.9.1 64-bit ('3.9.1')",
   "language": "python",
   "name": "python3"
  },
  "language_info": {
   "codemirror_mode": {
    "name": "ipython",
    "version": 3
   },
   "file_extension": ".py",
   "mimetype": "text/x-python",
   "name": "python",
   "nbconvert_exporter": "python",
   "pygments_lexer": "ipython3",
   "version": "3.9.1"
  },
  "orig_nbformat": 4
 },
 "nbformat": 4,
 "nbformat_minor": 2
}
