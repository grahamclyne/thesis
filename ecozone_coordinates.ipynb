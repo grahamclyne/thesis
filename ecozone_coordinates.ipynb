{
 "cells": [
  {
   "cell_type": "code",
   "execution_count": null,
   "metadata": {},
   "outputs": [],
   "source": [
    "import xarray as xr \n",
    "from preprocessing.utils import scaleLongitudes\n",
    "import geopandas as gpd\n",
    "import pandas as pd\n",
    "\n",
    "#convert a list of tuples into a pandas dataframe\n",
    "def convertToDF(list_of_tuples):\n",
    "    df = pd.DataFrame(list_of_tuples, columns = ['lat','lon']) \n",
    "    return df\n",
    "\n",
    "def getEcoZoneCoordinates():\n",
    "    ecozones = gpd.read_file('data/shapefiles/ecozones.shp').to_crs('epsg:4326')\n",
    "    netcdf_file = xr.open_dataset(f'data/CESM/treeFrac_Lmon_CESM2_historical_r11i1p1f1_gn_199901-201412.nc')\n",
    "    netcdf_file = scaleLongitudes(netcdf_file)\n",
    "    #to make sure the center of the cell is being considered for the clipping\n",
    "    netcdf_file['lat'] = netcdf_file['lat'] + 0.5\n",
    "    netcdf_file['lon'] = netcdf_file['lon'] + 0.75\n",
    "    dissolved_ecozones = ecozones.dissolve(by='ZONE_NAME').reset_index()\n",
    "    netcdf_file = netcdf_file['treeFrac']\n",
    "    df = pd.DataFrame()\n",
    "    for _,region in dissolved_ecozones.iterrows():\n",
    "        gdf = gpd.GeoDataFrame(geometry=[region.geometry])\n",
    "        netcdf_file.rio.set_spatial_dims(x_dim=\"lon\", y_dim=\"lat\", inplace=True)\n",
    "        netcdf_file.rio.write_crs(\"epsg:4326\", inplace=True)\n",
    "        clipped = netcdf_file.rio.clip(gdf.geometry, ecozones.crs,drop=True)\n",
    "        clipped['lat'] = clipped['lat'] - 0.5\n",
    "        clipped['lon'] = clipped['lon'] - 0.75\n",
    "        stacked = clipped.stack(x=['lat','lon'])\n",
    "        val = stacked.isel(time=0)[stacked.isel(time=0).notnull()].coords['x'].values\n",
    "        x = convertToDF(list(val))\n",
    "        x['zone'] = region['ZONE_NAME']\n",
    "        df= pd.concat([df,x])\n",
    "    df['lat'] = df['lat'].round(7)\n",
    "    return df"
   ]
  },
  {
   "cell_type": "code",
   "execution_count": null,
   "metadata": {},
   "outputs": [],
   "source": [
    "from preprocessing.utils import getArea\n",
    "from hydra import initialize, compose\n",
    "\n",
    "with initialize(version_base=None, config_path=\"conf\"):\n",
    "    cfg = compose(config_name=\"config\")\n",
    "df = getEcoZoneCoordinates()\n",
    "t = 0\n",
    "nfis_agb = pd.read_csv('data/nfis_agb.csv')\n",
    "for region in df.zone.unique():\n",
    "    print(region)\n",
    "    total_agb = pd.merge(nfis_agb,df[df['zone'] == region],on=['lat','lon']) \n",
    "    if(len(total_agb) == 0):\n",
    "        continue\n",
    "    total_agb['agb'] = total_agb['agb'] / 10\n",
    "    total_agb['area'] = total_agb.apply(lambda x: getArea(x['lat'],x['lon'],cfg),axis=1)\n",
    "    total_agb['agb'] = total_agb['agb'] * total_agb['area']\n",
    "    t = t + total_agb['agb'].sum() / 1e12\n",
    "    print(region,total_agb['agb'].sum() / 1e9)\n",
    "print(t)"
   ]
  },
  {
   "cell_type": "code",
   "execution_count": null,
   "metadata": {},
   "outputs": [],
   "source": [
    "df.to_csv('data/exp_ecozones_coordinates.csv',index=False)"
   ]
  },
  {
   "cell_type": "code",
   "execution_count": null,
   "metadata": {},
   "outputs": [],
   "source": [
    "#SHOW STUDY AREA\n",
    "import matplotlib.pyplot as plt\n",
    "import geopandas \n",
    "\n",
    "ecozones = geopandas.read_file('data/shapefiles/ecozones.shp').to_crs('epsg:4326')\n",
    "canada = geopandas.read_file('data/shapefiles/lpr_000b16a_e/lpr_000b16a_e.shp').to_crs('epsg:4326')\n",
    "fig, ax = plt.subplots(figsize=(10,10))\n",
    "canada.plot(ax=ax,color='white',edgecolor='black')\n",
    "ax.legend(['Boreal Shield','Boreal Cordillera','Boreal Plain'],fontsize=30,loc='upper left')\n",
    "ecozones.where(ecozones['ZONE_NAME'].isin(['Boreal Shield','Boreal Cordillera','Boreal PLain'])).plot(column='ZONE_NAME',ax=ax,cmap='cividis',legend=True,legend_kwds={'fontsize':15})\n",
    "# ax.set_title('Study Area',fontsize=40)\n"
   ]
  }
 ],
 "metadata": {
  "kernelspec": {
   "display_name": "env",
   "language": "python",
   "name": "python3"
  },
  "language_info": {
   "codemirror_mode": {
    "name": "ipython",
    "version": 3
   },
   "file_extension": ".py",
   "mimetype": "text/x-python",
   "name": "python",
   "nbconvert_exporter": "python",
   "pygments_lexer": "ipython3",
   "version": "3.9.1"
  },
  "orig_nbformat": 4
 },
 "nbformat": 4,
 "nbformat_minor": 2
}
