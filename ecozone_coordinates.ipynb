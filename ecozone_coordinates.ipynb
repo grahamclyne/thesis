{
 "cells": [
  {
   "cell_type": "code",
   "execution_count": 41,
   "metadata": {},
   "outputs": [],
   "source": [
    "import xarray as xr \n",
    "from preprocessing.utils import scaleLongitudes\n",
    "import geopandas as gpd\n",
    "import pandas as pd\n",
    "\n",
    "#convert a list of tuples into a pandas dataframe\n",
    "def convertToDF(list_of_tuples):\n",
    "    df = pd.DataFrame(list_of_tuples, columns = ['lat','lon']) \n",
    "    return df\n",
    "\n",
    "def getEcoZoneCoordinates():\n",
    "    ecozones = gpd.read_file('data/shapefiles/ecozones.shp').to_crs('epsg:4326')\n",
    "    netcdf_file = xr.open_dataset(f'data/CESM/treeFrac_Lmon_CESM2_historical_r11i1p1f1_gn_199901-201412.nc')\n",
    "    netcdf_file = scaleLongitudes(netcdf_file)\n",
    "    dissolved_ecozones = ecozones.dissolve(by='ZONE_NAME').reset_index()\n",
    "    netcdf_file = netcdf_file['treeFrac']\n",
    "    df = pd.DataFrame()\n",
    "    for _,region in dissolved_ecozones.iterrows():\n",
    "        gdf = gpd.GeoDataFrame(geometry=[region.geometry])\n",
    "        netcdf_file.rio.set_spatial_dims(x_dim=\"lon\", y_dim=\"lat\", inplace=True)\n",
    "        netcdf_file.rio.write_crs(\"epsg:4326\", inplace=True)\n",
    "        clipped = netcdf_file.rio.clip(gdf.geometry, ecozones.crs,drop=True)\n",
    "        stacked = clipped.stack(x=['lat','lon'])\n",
    "        # stacked.isel(time=0)[stacked.isel(time=0).notnull()].coords['x'].values\n",
    "        val = stacked.isel(time=0)[stacked.isel(time=0).notnull()].coords['x'].values\n",
    "        x = convertToDF(list(val))\n",
    "        x['zone'] = region['ZONE_NAME']\n",
    "        df= pd.concat([df,x])\n",
    "    df['lat'] = df['lat'].round(7)\n",
    "    return df"
   ]
  },
  {
   "cell_type": "code",
   "execution_count": 52,
   "metadata": {},
   "outputs": [
    {
     "name": "stderr",
     "output_type": "stream",
     "text": [
      "/Users/gclyne/thesis/env/lib/python3.9/site-packages/xarray/conventions.py:521: SerializationWarning: variable 'treeFrac' has multiple fill values {1e+20, 1e+20}, decoding all values to NaN.\n",
      "  new_vars[k] = decode_cf_variable(\n"
     ]
    },
    {
     "name": "stdout",
     "output_type": "stream",
     "text": [
      "Arctic Cordillera\n",
      "Atlantic Maritime\n",
      "Atlantic Maritime 920.0439550624624\n",
      "Boreal Cordillera\n",
      "Boreal Cordillera 1628.469533485987\n",
      "Boreal PLain\n",
      "Boreal PLain 3964.1256520090856\n",
      "Boreal Shield\n",
      "Boreal Shield 6894.267281492343\n",
      "Hudson Plain\n",
      "Hudson Plain 29.269150732411973\n",
      "MixedWood Plain\n",
      "MixedWood Plain 284.6167856669681\n",
      "Montane Cordillera\n",
      "Montane Cordillera 3712.192844689875\n",
      "Northern Arctic\n",
      "Pacific Maritime\n",
      "Pacific Maritime 1907.061142629115\n",
      "Prairie\n",
      "Prairie 200.97807787729695\n",
      "Southern Arctic\n",
      "Taiga Cordillera\n",
      "Taiga Cordillera 23.054264406683057\n",
      "Taiga Plain\n",
      "Taiga Plain 1244.8158155033857\n",
      "Taiga Shield\n",
      "Taiga Shield 153.00213673688546\n",
      "20.961896640292498\n"
     ]
    }
   ],
   "source": [
    "from preprocessing.utils import getArea\n",
    "from hydra import initialize, compose\n",
    "\n",
    "with initialize(version_base=None, config_path=\"conf\"):\n",
    "    cfg = compose(config_name=\"config\")\n",
    "df = getEcoZoneCoordinates()\n",
    "t = 0\n",
    "nfis_agb = pd.read_csv('data/nfis_agb.csv')\n",
    "for region in df.zone.unique():\n",
    "    print(region)\n",
    "    total_agb = pd.merge(nfis_agb,df[df['zone'] == region],on=['lat','lon']) \n",
    "    if(len(total_agb) == 0):\n",
    "        continue\n",
    "    total_agb['agb'] = total_agb['agb'] / 10\n",
    "    total_agb['area'] = total_agb.apply(lambda x: getArea(x['lat'],x['lon'],cfg),axis=1)\n",
    "    total_agb['agb'] = total_agb['agb'] * total_agb['area']\n",
    "    t = t + total_agb['agb'].sum() / 1e12\n",
    "    print(region,total_agb['agb'].sum() / 1e9)\n",
    "print(t)"
   ]
  }
 ],
 "metadata": {
  "kernelspec": {
   "display_name": "env",
   "language": "python",
   "name": "python3"
  },
  "language_info": {
   "codemirror_mode": {
    "name": "ipython",
    "version": 3
   },
   "file_extension": ".py",
   "mimetype": "text/x-python",
   "name": "python",
   "nbconvert_exporter": "python",
   "pygments_lexer": "ipython3",
   "version": "3.9.1"
  },
  "orig_nbformat": 4
 },
 "nbformat": 4,
 "nbformat_minor": 2
}
