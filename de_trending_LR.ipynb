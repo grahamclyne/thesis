{
 "cells": [
  {
   "cell_type": "code",
   "execution_count": 93,
   "metadata": {},
   "outputs": [],
   "source": [
    "import scipy"
   ]
  },
  {
   "cell_type": "code",
   "execution_count": 180,
   "metadata": {},
   "outputs": [],
   "source": [
    "import pandas as pd\n",
    "\n",
    "cmip = pd.read_csv('data/cesm_data_variant.csv')\n",
    "observed = pd.read_csv('data/cleaned_observed_ann_input.csv')"
   ]
  },
  {
   "cell_type": "code",
   "execution_count": 181,
   "metadata": {},
   "outputs": [],
   "source": [
    "from hydra import initialize, compose\n",
    "\n",
    "with initialize(version_base=None, config_path=\"./conf\"):\n",
    "    cfg = compose(config_name=\"config\")\n",
    "cmip_1985 = cmip[(cmip['year'] >= 1985) & (cmip['variant'] == 1)]\n",
    "observed_1985 = observed[observed['year'] <= 2014]\n",
    "cmip_var = cmip_1985[cfg.model.input + ['year','lat','lon']]\n",
    "observed_var = observed_1985[cfg.model.input + ['year','lat','lon']]"
   ]
  },
  {
   "cell_type": "code",
   "execution_count": 137,
   "metadata": {},
   "outputs": [
    {
     "name": "stderr",
     "output_type": "stream",
     "text": [
      "/var/folders/1g/_wddvqdx1zn1sqjjw3s9m2940000gt/T/ipykernel_80768/2099167954.py:4: SettingWithCopyWarning: \n",
      "A value is trying to be set on a copy of a slice from a DataFrame\n",
      "\n",
      "See the caveats in the documentation: https://pandas.pydata.org/pandas-docs/stable/user_guide/indexing.html#returning-a-view-versus-a-copy\n",
      "  cmip_var.loc[:,cfg.model.input] = scaler.transform(cmip_var.loc[:,cfg.model.input])\n",
      "/var/folders/1g/_wddvqdx1zn1sqjjw3s9m2940000gt/T/ipykernel_80768/2099167954.py:5: SettingWithCopyWarning: \n",
      "A value is trying to be set on a copy of a slice from a DataFrame\n",
      "\n",
      "See the caveats in the documentation: https://pandas.pydata.org/pandas-docs/stable/user_guide/indexing.html#returning-a-view-versus-a-copy\n",
      "  observed_var.loc[:,cfg.model.input] = scaler.transform(observed_var.loc[:,cfg.model.input])\n"
     ]
    }
   ],
   "source": [
    "from sklearn import preprocessing\n",
    "\n",
    "scaler = preprocessing.StandardScaler().fit(cmip_var.loc[:,cfg.model.input])\n",
    "cmip_var.loc[:,cfg.model.input] = scaler.transform(cmip_var.loc[:,cfg.model.input])\n",
    "observed_var.loc[:,cfg.model.input] = scaler.transform(observed_var.loc[:,cfg.model.input])"
   ]
  },
  {
   "cell_type": "code",
   "execution_count": 182,
   "metadata": {},
   "outputs": [
    {
     "name": "stderr",
     "output_type": "stream",
     "text": [
      "/var/folders/1g/_wddvqdx1zn1sqjjw3s9m2940000gt/T/ipykernel_80768/3241450366.py:1: SettingWithCopyWarning: \n",
      "A value is trying to be set on a copy of a slice from a DataFrame.\n",
      "Try using .loc[row_indexer,col_indexer] = value instead\n",
      "\n",
      "See the caveats in the documentation: https://pandas.pydata.org/pandas-docs/stable/user_guide/indexing.html#returning-a-view-versus-a-copy\n",
      "  cmip_var.loc[:,'lat'] = cmip_var['lat'].round(6)\n",
      "/var/folders/1g/_wddvqdx1zn1sqjjw3s9m2940000gt/T/ipykernel_80768/3241450366.py:2: SettingWithCopyWarning: \n",
      "A value is trying to be set on a copy of a slice from a DataFrame.\n",
      "Try using .loc[row_indexer,col_indexer] = value instead\n",
      "\n",
      "See the caveats in the documentation: https://pandas.pydata.org/pandas-docs/stable/user_guide/indexing.html#returning-a-view-versus-a-copy\n",
      "  observed_var.loc[:,'lat'] = observed_var['lat'].round(6)\n"
     ]
    }
   ],
   "source": [
    "cmip_var.loc[:,'lat'] = cmip_var['lat'].round(6)\n",
    "observed_var.loc[:,'lat'] = observed_var['lat'].round(6)\n",
    "merged = pd.merge(cmip_var,observed_var,on=['lat','lon','year'],how='inner')"
   ]
  },
  {
   "cell_type": "code",
   "execution_count": 152,
   "metadata": {},
   "outputs": [
    {
     "data": {
      "text/plain": [
       "KstestResult(statistic=0.09662813102119461, pvalue=1.2475313424545629e-42)"
      ]
     },
     "execution_count": 152,
     "metadata": {},
     "output_type": "execute_result"
    }
   ],
   "source": [
    "scipy.stats.ks_2samp(merged['tas_JJA_x'],merged['tas_JJA_y'])"
   ]
  },
  {
   "cell_type": "code",
   "execution_count": 129,
   "metadata": {},
   "outputs": [
    {
     "data": {
      "text/plain": [
       "<matplotlib.collections.PathCollection at 0x13562ba60>"
      ]
     },
     "execution_count": 129,
     "metadata": {},
     "output_type": "execute_result"
    },
    {
     "data": {
      "image/png": "[encoded data removed]",
      "text/plain": [
       "<Figure size 432x288 with 1 Axes>"
      ]
     },
     "metadata": {
      "needs_background": "light"
     },
     "output_type": "display_data"
    }
   ],
   "source": [
    "import matplotlib.pyplot as plt\n",
    "plt.scatter(cell['year'],cell['pr_y'])\n",
    "plt.scatter(cell['pr_x'],cell['year'])"
   ]
  },
  {
   "cell_type": "code",
   "execution_count": 183,
   "metadata": {},
   "outputs": [],
   "source": [
    "import numpy as np\n",
    "from sklearn.linear_model import LinearRegression\n",
    "\n",
    "def linear_regression(X,y):\n",
    "    # plt.scatter(cell['year'],cell['pr_x'])\n",
    "    model = LinearRegression(fit_intercept=True)\n",
    "    model.fit(X, y)\n",
    "    xfit = np.linspace(1985, 2015, 30)\n",
    "    yfit = model.predict(xfit[:, np.newaxis])\n",
    "\n",
    "    # # Print the Intercept:\n",
    "    # print('intercept:', model.intercept_)\n",
    "\n",
    "    # # Print the Slope:\n",
    "    # print('slope:', model.coef_) \n",
    "\n",
    "    # Plot the estimated linear regression line with matplotlib:\n",
    "    # plt.scatter(X, y)\n",
    "    # plt.plot(xfit, yfit);\n",
    "    # plt.show()\n",
    "    return yfit"
   ]
  },
  {
   "cell_type": "code",
   "execution_count": 184,
   "metadata": {},
   "outputs": [],
   "source": [
    "# merged['detrended_cesm_tsl']  = merged['tsl_x'] - pred_for_cesm\n",
    "# merged.loc[(merged['lat'] == lat) & (merged['lon'] == lon),'tsl_x'].reset_index()\n",
    "\n",
    "\n",
    "for lat,lon in zip(merged['lat'],merged['lon']):\n",
    "    cell = merged[(merged['lat'] == lat) & (merged['lon'] == lon)]\n",
    "    X = cell['year'].values.reshape(-1,1)\n",
    "    y = cell['tsl_x'].values.reshape(-1,1)\n",
    "    y_1 = cell['tsl_y'].values.reshape(-1,1)\n",
    "    pred_for_cesm = linear_regression(X,y)\n",
    "    pred_for_observed = linear_regression(X,y_1)\n",
    "    merged.loc[(merged['lat'] == lat) & (merged['lon'] == lon),'detrended_cesm_tsl'] = merged.loc[(merged['lat'] == lat) & (merged['lon'] == lon),'tsl_x'] - pred_for_cesm[:,0]\n",
    "    merged.loc[(merged['lat'] == lat) & (merged['lon'] == lon),'detrended_observed_tsl'] = merged.loc[(merged['lat'] == lat) & (merged['lon'] == lon),'tsl_y'] - pred_for_observed[:,0]"
   ]
  },
  {
   "cell_type": "code",
   "execution_count": 187,
   "metadata": {},
   "outputs": [
    {
     "data": {
      "text/plain": [
       "(KstestResult(statistic=0.051059730250481716, pvalue=3.3666023302052367e-12),\n",
       " KstestResult(statistic=0.21416184971098268, pvalue=2.1227603297249714e-209))"
      ]
     },
     "execution_count": 187,
     "metadata": {},
     "output_type": "execute_result"
    }
   ],
   "source": [
    "scipy.stats.ks_2samp(merged['detrended_cesm_tsl'],merged['detrended_observed_tsl']),scipy.stats.ks_2samp(merged['tsl_x'],merged['tsl_y'])"
   ]
  },
  {
   "cell_type": "code",
   "execution_count": 192,
   "metadata": {},
   "outputs": [
    {
     "ename": "ValueError",
     "evalue": "The feature names should match those that were passed during fit.\nFeature names unseen at fit time:\n- detrended_observed_tsl\n- tas_DJF_y\nFeature names seen at fit time, yet now missing:\n- detrended_cesm_tsl\n- tas_DJF_x\n",
     "output_type": "error",
     "traceback": [
      "\u001b[0;31m---------------------------------------------------------------------------\u001b[0m",
      "\u001b[0;31mValueError\u001b[0m                                Traceback (most recent call last)",
      "\u001b[1;32mUntitled-1.ipynb Cell 11\u001b[0m in \u001b[0;36m<cell line: 5>\u001b[0;34m()\u001b[0m\n\u001b[1;32m      <a href='vscode-notebook-cell:Untitled-1.ipynb?jupyter-notebook#X46sdW50aXRsZWQ%3D?line=2'>3</a>\u001b[0m scaler \u001b[39m=\u001b[39m preprocessing\u001b[39m.\u001b[39mStandardScaler()\u001b[39m.\u001b[39mfit(merged\u001b[39m.\u001b[39mloc[:,[\u001b[39m'\u001b[39m\u001b[39mdetrended_cesm_tsl\u001b[39m\u001b[39m'\u001b[39m,\u001b[39m'\u001b[39m\u001b[39mtas_DJF_x\u001b[39m\u001b[39m'\u001b[39m]])\n\u001b[1;32m      <a href='vscode-notebook-cell:Untitled-1.ipynb?jupyter-notebook#X46sdW50aXRsZWQ%3D?line=3'>4</a>\u001b[0m merged\u001b[39m.\u001b[39mloc[:,[\u001b[39m'\u001b[39m\u001b[39mdetrended_cesm_tsl\u001b[39m\u001b[39m'\u001b[39m,\u001b[39m'\u001b[39m\u001b[39mtas_DJF_x\u001b[39m\u001b[39m'\u001b[39m]] \u001b[39m=\u001b[39m scaler\u001b[39m.\u001b[39mtransform(merged\u001b[39m.\u001b[39mloc[:,[\u001b[39m'\u001b[39m\u001b[39mdetrended_cesm_tsl\u001b[39m\u001b[39m'\u001b[39m,\u001b[39m'\u001b[39m\u001b[39mtas_DJF_x\u001b[39m\u001b[39m'\u001b[39m]])\n\u001b[0;32m----> <a href='vscode-notebook-cell:Untitled-1.ipynb?jupyter-notebook#X46sdW50aXRsZWQ%3D?line=4'>5</a>\u001b[0m merged\u001b[39m.\u001b[39mloc[:,[\u001b[39m'\u001b[39m\u001b[39mdetrended_observed_tsl\u001b[39m\u001b[39m'\u001b[39m,\u001b[39m'\u001b[39m\u001b[39mtas_DJF_y\u001b[39m\u001b[39m'\u001b[39m]] \u001b[39m=\u001b[39m scaler\u001b[39m.\u001b[39;49mtransform(merged\u001b[39m.\u001b[39;49mloc[:,[\u001b[39m'\u001b[39;49m\u001b[39mdetrended_observed_tsl\u001b[39;49m\u001b[39m'\u001b[39;49m,\u001b[39m'\u001b[39;49m\u001b[39mtas_DJF_y\u001b[39;49m\u001b[39m'\u001b[39;49m]])\n",
      "File \u001b[0;32m~/thesis/env/lib/python3.9/site-packages/sklearn/utils/_set_output.py:142\u001b[0m, in \u001b[0;36m_wrap_method_output.<locals>.wrapped\u001b[0;34m(self, X, *args, **kwargs)\u001b[0m\n\u001b[1;32m    140\u001b[0m \u001b[39m@wraps\u001b[39m(f)\n\u001b[1;32m    141\u001b[0m \u001b[39mdef\u001b[39;00m \u001b[39mwrapped\u001b[39m(\u001b[39mself\u001b[39m, X, \u001b[39m*\u001b[39margs, \u001b[39m*\u001b[39m\u001b[39m*\u001b[39mkwargs):\n\u001b[0;32m--> 142\u001b[0m     data_to_wrap \u001b[39m=\u001b[39m f(\u001b[39mself\u001b[39;49m, X, \u001b[39m*\u001b[39;49margs, \u001b[39m*\u001b[39;49m\u001b[39m*\u001b[39;49mkwargs)\n\u001b[1;32m    143\u001b[0m     \u001b[39mif\u001b[39;00m \u001b[39misinstance\u001b[39m(data_to_wrap, \u001b[39mtuple\u001b[39m):\n\u001b[1;32m    144\u001b[0m         \u001b[39m# only wrap the first output for cross decomposition\u001b[39;00m\n\u001b[1;32m    145\u001b[0m         \u001b[39mreturn\u001b[39;00m (\n\u001b[1;32m    146\u001b[0m             _wrap_data_with_container(method, data_to_wrap[\u001b[39m0\u001b[39m], X, \u001b[39mself\u001b[39m),\n\u001b[1;32m    147\u001b[0m             \u001b[39m*\u001b[39mdata_to_wrap[\u001b[39m1\u001b[39m:],\n\u001b[1;32m    148\u001b[0m         )\n",
      "File \u001b[0;32m~/thesis/env/lib/python3.9/site-packages/sklearn/preprocessing/_data.py:992\u001b[0m, in \u001b[0;36mStandardScaler.transform\u001b[0;34m(self, X, copy)\u001b[0m\n\u001b[1;32m    989\u001b[0m check_is_fitted(\u001b[39mself\u001b[39m)\n\u001b[1;32m    991\u001b[0m copy \u001b[39m=\u001b[39m copy \u001b[39mif\u001b[39;00m copy \u001b[39mis\u001b[39;00m \u001b[39mnot\u001b[39;00m \u001b[39mNone\u001b[39;00m \u001b[39melse\u001b[39;00m \u001b[39mself\u001b[39m\u001b[39m.\u001b[39mcopy\n\u001b[0;32m--> 992\u001b[0m X \u001b[39m=\u001b[39m \u001b[39mself\u001b[39;49m\u001b[39m.\u001b[39;49m_validate_data(\n\u001b[1;32m    993\u001b[0m     X,\n\u001b[1;32m    994\u001b[0m     reset\u001b[39m=\u001b[39;49m\u001b[39mFalse\u001b[39;49;00m,\n\u001b[1;32m    995\u001b[0m     accept_sparse\u001b[39m=\u001b[39;49m\u001b[39m\"\u001b[39;49m\u001b[39mcsr\u001b[39;49m\u001b[39m\"\u001b[39;49m,\n\u001b[1;32m    996\u001b[0m     copy\u001b[39m=\u001b[39;49mcopy,\n\u001b[1;32m    997\u001b[0m     dtype\u001b[39m=\u001b[39;49mFLOAT_DTYPES,\n\u001b[1;32m    998\u001b[0m     force_all_finite\u001b[39m=\u001b[39;49m\u001b[39m\"\u001b[39;49m\u001b[39mallow-nan\u001b[39;49m\u001b[39m\"\u001b[39;49m,\n\u001b[1;32m    999\u001b[0m )\n\u001b[1;32m   1001\u001b[0m \u001b[39mif\u001b[39;00m sparse\u001b[39m.\u001b[39missparse(X):\n\u001b[1;32m   1002\u001b[0m     \u001b[39mif\u001b[39;00m \u001b[39mself\u001b[39m\u001b[39m.\u001b[39mwith_mean:\n",
      "File \u001b[0;32m~/thesis/env/lib/python3.9/site-packages/sklearn/base.py:518\u001b[0m, in \u001b[0;36mBaseEstimator._validate_data\u001b[0;34m(self, X, y, reset, validate_separately, **check_params)\u001b[0m\n\u001b[1;32m    453\u001b[0m \u001b[39mdef\u001b[39;00m \u001b[39m_validate_data\u001b[39m(\n\u001b[1;32m    454\u001b[0m     \u001b[39mself\u001b[39m,\n\u001b[1;32m    455\u001b[0m     X\u001b[39m=\u001b[39m\u001b[39m\"\u001b[39m\u001b[39mno_validation\u001b[39m\u001b[39m\"\u001b[39m,\n\u001b[0;32m   (...)\u001b[0m\n\u001b[1;32m    459\u001b[0m     \u001b[39m*\u001b[39m\u001b[39m*\u001b[39mcheck_params,\n\u001b[1;32m    460\u001b[0m ):\n\u001b[1;32m    461\u001b[0m \u001b[39m    \u001b[39m\u001b[39m\"\"\"Validate input data and set or check the `n_features_in_` attribute.\u001b[39;00m\n\u001b[1;32m    462\u001b[0m \n\u001b[1;32m    463\u001b[0m \u001b[39m    Parameters\u001b[39;00m\n\u001b[0;32m   (...)\u001b[0m\n\u001b[1;32m    516\u001b[0m \u001b[39m        validated.\u001b[39;00m\n\u001b[1;32m    517\u001b[0m \u001b[39m    \"\"\"\u001b[39;00m\n\u001b[0;32m--> 518\u001b[0m     \u001b[39mself\u001b[39;49m\u001b[39m.\u001b[39;49m_check_feature_names(X, reset\u001b[39m=\u001b[39;49mreset)\n\u001b[1;32m    520\u001b[0m     \u001b[39mif\u001b[39;00m y \u001b[39mis\u001b[39;00m \u001b[39mNone\u001b[39;00m \u001b[39mand\u001b[39;00m \u001b[39mself\u001b[39m\u001b[39m.\u001b[39m_get_tags()[\u001b[39m\"\u001b[39m\u001b[39mrequires_y\u001b[39m\u001b[39m\"\u001b[39m]:\n\u001b[1;32m    521\u001b[0m         \u001b[39mraise\u001b[39;00m \u001b[39mValueError\u001b[39;00m(\n\u001b[1;32m    522\u001b[0m             \u001b[39mf\u001b[39m\u001b[39m\"\u001b[39m\u001b[39mThis \u001b[39m\u001b[39m{\u001b[39;00m\u001b[39mself\u001b[39m\u001b[39m.\u001b[39m\u001b[39m__class__\u001b[39m\u001b[39m.\u001b[39m\u001b[39m__name__\u001b[39m\u001b[39m}\u001b[39;00m\u001b[39m estimator \u001b[39m\u001b[39m\"\u001b[39m\n\u001b[1;32m    523\u001b[0m             \u001b[39m\"\u001b[39m\u001b[39mrequires y to be passed, but the target y is None.\u001b[39m\u001b[39m\"\u001b[39m\n\u001b[1;32m    524\u001b[0m         )\n",
      "File \u001b[0;32m~/thesis/env/lib/python3.9/site-packages/sklearn/base.py:451\u001b[0m, in \u001b[0;36mBaseEstimator._check_feature_names\u001b[0;34m(self, X, reset)\u001b[0m\n\u001b[1;32m    446\u001b[0m \u001b[39mif\u001b[39;00m \u001b[39mnot\u001b[39;00m missing_names \u001b[39mand\u001b[39;00m \u001b[39mnot\u001b[39;00m unexpected_names:\n\u001b[1;32m    447\u001b[0m     message \u001b[39m+\u001b[39m\u001b[39m=\u001b[39m (\n\u001b[1;32m    448\u001b[0m         \u001b[39m\"\u001b[39m\u001b[39mFeature names must be in the same order as they were in fit.\u001b[39m\u001b[39m\\n\u001b[39;00m\u001b[39m\"\u001b[39m\n\u001b[1;32m    449\u001b[0m     )\n\u001b[0;32m--> 451\u001b[0m \u001b[39mraise\u001b[39;00m \u001b[39mValueError\u001b[39;00m(message)\n",
      "\u001b[0;31mValueError\u001b[0m: The feature names should match those that were passed during fit.\nFeature names unseen at fit time:\n- detrended_observed_tsl\n- tas_DJF_y\nFeature names seen at fit time, yet now missing:\n- detrended_cesm_tsl\n- tas_DJF_x\n"
     ]
    }
   ],
   "source": [
    "from sklearn import preprocessing\n",
    "\n",
    "scaler = preprocessing.StandardScaler().fit(merged.loc[:,['detrended_cesm_tsl','tas_DJF_x']])\n",
    "merged.loc[:,['detrended_cesm_tsl','tas_DJF_x']] = scaler.transform(merged.loc[:,['detrended_cesm_tsl','tas_DJF_x']])\n",
    "merged.loc[:,['detrended_observed_tsl','tas_DJF_y']] = scaler.transform(merged.loc[:,['detrended_observed_tsl','tas_DJF_y']])"
   ]
  },
  {
   "cell_type": "code",
   "execution_count": 154,
   "metadata": {},
   "outputs": [
    {
     "data": {
      "text/plain": [
       "<seaborn.axisgrid.FacetGrid at 0x1368aa100>"
      ]
     },
     "execution_count": 154,
     "metadata": {},
     "output_type": "execute_result"
    },
    {
     "data": {
      "image/png": "[encoded data removed]",
      "text/plain": [
       "<Figure size 360x360 with 1 Axes>"
      ]
     },
     "metadata": {
      "needs_background": "light"
     },
     "output_type": "display_data"
    },
    {
     "data": {
      "image/png": "[encoded data removed]",
      "text/plain": [
       "<Figure size 360x360 with 1 Axes>"
      ]
     },
     "metadata": {
      "needs_background": "light"
     },
     "output_type": "display_data"
    }
   ],
   "source": [
    "import seaborn as sns\n",
    "sns.displot(merged, x=\"tas_JJA_x\")\n",
    "sns.displot(merged, x=\"tas_JJA_y\")\n",
    "\n",
    "\n"
   ]
  },
  {
   "cell_type": "code",
   "execution_count": 144,
   "metadata": {},
   "outputs": [
    {
     "data": {
      "text/plain": [
       "count    10380.000000\n",
       "mean         0.622970\n",
       "std          0.794172\n",
       "min         -0.844235\n",
       "25%          0.017247\n",
       "50%          0.448189\n",
       "75%          1.140773\n",
       "max          6.088315\n",
       "Name: pr_y, dtype: float64"
      ]
     },
     "execution_count": 144,
     "metadata": {},
     "output_type": "execute_result"
    }
   ],
   "source": [
    "merged['pr_y'].describe()"
   ]
  },
  {
   "cell_type": "code",
   "execution_count": 145,
   "metadata": {},
   "outputs": [
    {
     "data": {
      "text/plain": [
       "count    10380.000000\n",
       "mean         0.498462\n",
       "std          0.889305\n",
       "min         -0.852823\n",
       "25%         -0.164229\n",
       "50%          0.274059\n",
       "75%          0.956610\n",
       "max          6.530365\n",
       "Name: pr_x, dtype: float64"
      ]
     },
     "execution_count": 145,
     "metadata": {},
     "output_type": "execute_result"
    }
   ],
   "source": [
    "merged['pr_x'].describe()"
   ]
  },
  {
   "cell_type": "code",
   "execution_count": null,
   "metadata": {},
   "outputs": [],
   "source": []
  }
 ],
 "metadata": {
  "kernelspec": {
   "display_name": "env",
   "language": "python",
   "name": "python3"
  },
  "language_info": {
   "codemirror_mode": {
    "name": "ipython",
    "version": 3
   },
   "file_extension": ".py",
   "mimetype": "text/x-python",
   "name": "python",
   "nbconvert_exporter": "python",
   "pygments_lexer": "ipython3",
   "version": "3.9.1"
  },
  "orig_nbformat": 4
 },
 "nbformat": 4,
 "nbformat_minor": 2
}
