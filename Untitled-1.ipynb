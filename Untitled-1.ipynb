{
 "cells": [
  {
   "cell_type": "code",
   "execution_count": 21,
   "metadata": {},
   "outputs": [
    {
     "ename": "RuntimeError",
     "evalue": "Cannot find the ecCodes library",
     "output_type": "error",
     "traceback": [
      "\u001b[0;31m---------------------------------------------------------------------------\u001b[0m",
      "\u001b[0;31mRuntimeError\u001b[0m                              Traceback (most recent call last)",
      "\u001b[1;32mUntitled-1.ipynb Cell 1'\u001b[0m in \u001b[0;36m<module>\u001b[0;34m\u001b[0m\n\u001b[1;32m      <a href='vscode-notebook-cell:Untitled-1.ipynb?jupyter-notebook#ch0000000untitled?line=0'>1</a>\u001b[0m \u001b[39mimport\u001b[39;00m \u001b[39mxarray\u001b[39;00m \u001b[39mas\u001b[39;00m \u001b[39mxr\u001b[39;00m\n\u001b[0;32m----> <a href='vscode-notebook-cell:Untitled-1.ipynb?jupyter-notebook#ch0000000untitled?line=1'>2</a>\u001b[0m \u001b[39mimport\u001b[39;00m \u001b[39mcfgrib\u001b[39;00m\n\u001b[1;32m      <a href='vscode-notebook-cell:Untitled-1.ipynb?jupyter-notebook#ch0000000untitled?line=2'>3</a>\u001b[0m era \u001b[39m=\u001b[39m xr\u001b[39m.\u001b[39mload_dataset(\u001b[39m'\u001b[39m\u001b[39m/home/graham/Downloads/adaptor.mars.internal-1645380235.429803-11422-9-2f96d272-1ca1-45cd-8002-6efb36293c1d.grib\u001b[39m\u001b[39m'\u001b[39m)\n\u001b[1;32m      <a href='vscode-notebook-cell:Untitled-1.ipynb?jupyter-notebook#ch0000000untitled?line=4'>5</a>\u001b[0m x \u001b[39m=\u001b[39m era\u001b[39m.\u001b[39mgroupby(\u001b[39m'\u001b[39m\u001b[39mtime.year\u001b[39m\u001b[39m'\u001b[39m)\u001b[39m.\u001b[39mmean(\u001b[39m'\u001b[39m\u001b[39mtime\u001b[39m\u001b[39m'\u001b[39m)\n",
      "File \u001b[0;32m~/.local/lib/python3.8/site-packages/cfgrib/__init__.py:20\u001b[0m, in \u001b[0;36m<module>\u001b[0;34m\u001b[0m\n\u001b[1;32m     <a href='file:///~/.local/lib/python3.8/site-packages/cfgrib/__init__.py?line=17'>18</a>\u001b[0m \u001b[39m# cfgrib core API depends on the ECMWF ecCodes C-library only\u001b[39;00m\n\u001b[1;32m     <a href='file:///~/.local/lib/python3.8/site-packages/cfgrib/__init__.py?line=18'>19</a>\u001b[0m \u001b[39mfrom\u001b[39;00m \u001b[39m.\u001b[39;00m\u001b[39mabc\u001b[39;00m \u001b[39mimport\u001b[39;00m Field, Fieldset, Index, MappingFieldset\n\u001b[0;32m---> <a href='file:///~/.local/lib/python3.8/site-packages/cfgrib/__init__.py?line=19'>20</a>\u001b[0m \u001b[39mfrom\u001b[39;00m \u001b[39m.\u001b[39;00m\u001b[39mcfmessage\u001b[39;00m \u001b[39mimport\u001b[39;00m COMPUTED_KEYS\n\u001b[1;32m     <a href='file:///~/.local/lib/python3.8/site-packages/cfgrib/__init__.py?line=20'>21</a>\u001b[0m \u001b[39mfrom\u001b[39;00m \u001b[39m.\u001b[39;00m\u001b[39mdataset\u001b[39;00m \u001b[39mimport\u001b[39;00m (\n\u001b[1;32m     <a href='file:///~/.local/lib/python3.8/site-packages/cfgrib/__init__.py?line=21'>22</a>\u001b[0m     Dataset,\n\u001b[1;32m     <a href='file:///~/.local/lib/python3.8/site-packages/cfgrib/__init__.py?line=22'>23</a>\u001b[0m     DatasetBuildError,\n\u001b[0;32m   (...)\u001b[0m\n\u001b[1;32m     <a href='file:///~/.local/lib/python3.8/site-packages/cfgrib/__init__.py?line=26'>27</a>\u001b[0m     open_from_index,\n\u001b[1;32m     <a href='file:///~/.local/lib/python3.8/site-packages/cfgrib/__init__.py?line=27'>28</a>\u001b[0m )\n\u001b[1;32m     <a href='file:///~/.local/lib/python3.8/site-packages/cfgrib/__init__.py?line=28'>29</a>\u001b[0m \u001b[39mfrom\u001b[39;00m \u001b[39m.\u001b[39;00m\u001b[39mmessages\u001b[39;00m \u001b[39mimport\u001b[39;00m FieldsetIndex, FileStream, Message\n",
      "File \u001b[0;32m~/.local/lib/python3.8/site-packages/cfgrib/cfmessage.py:29\u001b[0m, in \u001b[0;36m<module>\u001b[0;34m\u001b[0m\n\u001b[1;32m     <a href='file:///~/.local/lib/python3.8/site-packages/cfgrib/cfmessage.py?line=25'>26</a>\u001b[0m \u001b[39mimport\u001b[39;00m \u001b[39mattr\u001b[39;00m\n\u001b[1;32m     <a href='file:///~/.local/lib/python3.8/site-packages/cfgrib/cfmessage.py?line=26'>27</a>\u001b[0m \u001b[39mimport\u001b[39;00m \u001b[39mnumpy\u001b[39;00m \u001b[39mas\u001b[39;00m \u001b[39mnp\u001b[39;00m\n\u001b[0;32m---> <a href='file:///~/.local/lib/python3.8/site-packages/cfgrib/cfmessage.py?line=28'>29</a>\u001b[0m \u001b[39mfrom\u001b[39;00m \u001b[39m.\u001b[39;00m \u001b[39mimport\u001b[39;00m abc, messages\n\u001b[1;32m     <a href='file:///~/.local/lib/python3.8/site-packages/cfgrib/cfmessage.py?line=30'>31</a>\u001b[0m LOG \u001b[39m=\u001b[39m logging\u001b[39m.\u001b[39mgetLogger(\u001b[39m__name__\u001b[39m)\n\u001b[1;32m     <a href='file:///~/.local/lib/python3.8/site-packages/cfgrib/cfmessage.py?line=32'>33</a>\u001b[0m \u001b[39m# taken from eccodes stepUnits.table\u001b[39;00m\n",
      "File \u001b[0;32m~/.local/lib/python3.8/site-packages/cfgrib/messages.py:28\u001b[0m, in \u001b[0;36m<module>\u001b[0;34m\u001b[0m\n\u001b[1;32m     <a href='file:///~/.local/lib/python3.8/site-packages/cfgrib/messages.py?line=24'>25</a>\u001b[0m \u001b[39mimport\u001b[39;00m \u001b[39mtyping\u001b[39;00m \u001b[39mas\u001b[39;00m \u001b[39mT\u001b[39;00m\n\u001b[1;32m     <a href='file:///~/.local/lib/python3.8/site-packages/cfgrib/messages.py?line=26'>27</a>\u001b[0m \u001b[39mimport\u001b[39;00m \u001b[39mattr\u001b[39;00m\n\u001b[0;32m---> <a href='file:///~/.local/lib/python3.8/site-packages/cfgrib/messages.py?line=27'>28</a>\u001b[0m \u001b[39mimport\u001b[39;00m \u001b[39meccodes\u001b[39;00m  \u001b[39m# type: ignore\u001b[39;00m\n\u001b[1;32m     <a href='file:///~/.local/lib/python3.8/site-packages/cfgrib/messages.py?line=28'>29</a>\u001b[0m \u001b[39mimport\u001b[39;00m \u001b[39mnumpy\u001b[39;00m \u001b[39mas\u001b[39;00m \u001b[39mnp\u001b[39;00m\n\u001b[1;32m     <a href='file:///~/.local/lib/python3.8/site-packages/cfgrib/messages.py?line=30'>31</a>\u001b[0m \u001b[39mfrom\u001b[39;00m \u001b[39m.\u001b[39;00m \u001b[39mimport\u001b[39;00m abc\n",
      "File \u001b[0;32m~/.local/lib/python3.8/site-packages/eccodes/__init__.py:13\u001b[0m, in \u001b[0;36m<module>\u001b[0;34m\u001b[0m\n\u001b[1;32m      <a href='file:///~/.local/lib/python3.8/site-packages/eccodes/__init__.py?line=0'>1</a>\u001b[0m \u001b[39m#\u001b[39;00m\n\u001b[1;32m      <a href='file:///~/.local/lib/python3.8/site-packages/eccodes/__init__.py?line=1'>2</a>\u001b[0m \u001b[39m# (C) Copyright 2017- ECMWF.\u001b[39;00m\n\u001b[1;32m      <a href='file:///~/.local/lib/python3.8/site-packages/eccodes/__init__.py?line=2'>3</a>\u001b[0m \u001b[39m#\u001b[39;00m\n\u001b[0;32m   (...)\u001b[0m\n\u001b[1;32m     <a href='file:///~/.local/lib/python3.8/site-packages/eccodes/__init__.py?line=9'>10</a>\u001b[0m \u001b[39m#\u001b[39;00m\n\u001b[1;32m     <a href='file:///~/.local/lib/python3.8/site-packages/eccodes/__init__.py?line=10'>11</a>\u001b[0m \u001b[39m#\u001b[39;00m\n\u001b[0;32m---> <a href='file:///~/.local/lib/python3.8/site-packages/eccodes/__init__.py?line=12'>13</a>\u001b[0m \u001b[39mfrom\u001b[39;00m \u001b[39m.\u001b[39;00m\u001b[39meccodes\u001b[39;00m \u001b[39mimport\u001b[39;00m \u001b[39m*\u001b[39m\n",
      "File \u001b[0;32m~/.local/lib/python3.8/site-packages/eccodes/eccodes.py:12\u001b[0m, in \u001b[0;36m<module>\u001b[0;34m\u001b[0m\n\u001b[1;32m      <a href='file:///~/.local/lib/python3.8/site-packages/eccodes/eccodes.py?line=0'>1</a>\u001b[0m \u001b[39m#\u001b[39;00m\n\u001b[1;32m      <a href='file:///~/.local/lib/python3.8/site-packages/eccodes/eccodes.py?line=1'>2</a>\u001b[0m \u001b[39m# (C) Copyright 2017- ECMWF.\u001b[39;00m\n\u001b[1;32m      <a href='file:///~/.local/lib/python3.8/site-packages/eccodes/eccodes.py?line=2'>3</a>\u001b[0m \u001b[39m#\u001b[39;00m\n\u001b[0;32m   (...)\u001b[0m\n\u001b[1;32m     <a href='file:///~/.local/lib/python3.8/site-packages/eccodes/eccodes.py?line=9'>10</a>\u001b[0m \u001b[39m#\u001b[39;00m\n\u001b[1;32m     <a href='file:///~/.local/lib/python3.8/site-packages/eccodes/eccodes.py?line=10'>11</a>\u001b[0m \u001b[39m#\u001b[39;00m\n\u001b[0;32m---> <a href='file:///~/.local/lib/python3.8/site-packages/eccodes/eccodes.py?line=11'>12</a>\u001b[0m \u001b[39mfrom\u001b[39;00m \u001b[39mgribapi\u001b[39;00m \u001b[39mimport\u001b[39;00m (\n\u001b[1;32m     <a href='file:///~/.local/lib/python3.8/site-packages/eccodes/eccodes.py?line=12'>13</a>\u001b[0m     CODES_PRODUCT_ANY,\n\u001b[1;32m     <a href='file:///~/.local/lib/python3.8/site-packages/eccodes/eccodes.py?line=13'>14</a>\u001b[0m     CODES_PRODUCT_BUFR,\n\u001b[1;32m     <a href='file:///~/.local/lib/python3.8/site-packages/eccodes/eccodes.py?line=14'>15</a>\u001b[0m     CODES_PRODUCT_GRIB,\n\u001b[1;32m     <a href='file:///~/.local/lib/python3.8/site-packages/eccodes/eccodes.py?line=15'>16</a>\u001b[0m     CODES_PRODUCT_GTS,\n\u001b[1;32m     <a href='file:///~/.local/lib/python3.8/site-packages/eccodes/eccodes.py?line=16'>17</a>\u001b[0m     CODES_PRODUCT_METAR,\n\u001b[1;32m     <a href='file:///~/.local/lib/python3.8/site-packages/eccodes/eccodes.py?line=17'>18</a>\u001b[0m )\n\u001b[1;32m     <a href='file:///~/.local/lib/python3.8/site-packages/eccodes/eccodes.py?line=18'>19</a>\u001b[0m \u001b[39mfrom\u001b[39;00m \u001b[39mgribapi\u001b[39;00m \u001b[39mimport\u001b[39;00m GRIB_CHECK \u001b[39mas\u001b[39;00m CODES_CHECK\n\u001b[1;32m     <a href='file:///~/.local/lib/python3.8/site-packages/eccodes/eccodes.py?line=19'>20</a>\u001b[0m \u001b[39mfrom\u001b[39;00m \u001b[39mgribapi\u001b[39;00m \u001b[39mimport\u001b[39;00m GRIB_MISSING_DOUBLE \u001b[39mas\u001b[39;00m CODES_MISSING_DOUBLE\n",
      "File \u001b[0;32m~/.local/lib/python3.8/site-packages/gribapi/__init__.py:13\u001b[0m, in \u001b[0;36m<module>\u001b[0;34m\u001b[0m\n\u001b[1;32m      <a href='file:///~/.local/lib/python3.8/site-packages/gribapi/__init__.py?line=0'>1</a>\u001b[0m \u001b[39m#\u001b[39;00m\n\u001b[1;32m      <a href='file:///~/.local/lib/python3.8/site-packages/gribapi/__init__.py?line=1'>2</a>\u001b[0m \u001b[39m# (C) Copyright 2017- ECMWF.\u001b[39;00m\n\u001b[1;32m      <a href='file:///~/.local/lib/python3.8/site-packages/gribapi/__init__.py?line=2'>3</a>\u001b[0m \u001b[39m#\u001b[39;00m\n\u001b[0;32m   (...)\u001b[0m\n\u001b[1;32m     <a href='file:///~/.local/lib/python3.8/site-packages/gribapi/__init__.py?line=9'>10</a>\u001b[0m \u001b[39m#\u001b[39;00m\n\u001b[1;32m     <a href='file:///~/.local/lib/python3.8/site-packages/gribapi/__init__.py?line=10'>11</a>\u001b[0m \u001b[39m#\u001b[39;00m\n\u001b[0;32m---> <a href='file:///~/.local/lib/python3.8/site-packages/gribapi/__init__.py?line=12'>13</a>\u001b[0m \u001b[39mfrom\u001b[39;00m \u001b[39m.\u001b[39;00m\u001b[39mgribapi\u001b[39;00m \u001b[39mimport\u001b[39;00m \u001b[39m*\u001b[39m  \u001b[39m# noqa\u001b[39;00m\n\u001b[1;32m     <a href='file:///~/.local/lib/python3.8/site-packages/gribapi/__init__.py?line=13'>14</a>\u001b[0m \u001b[39mfrom\u001b[39;00m \u001b[39m.\u001b[39;00m\u001b[39mgribapi\u001b[39;00m \u001b[39mimport\u001b[39;00m __version__, lib\n\u001b[1;32m     <a href='file:///~/.local/lib/python3.8/site-packages/gribapi/__init__.py?line=15'>16</a>\u001b[0m \u001b[39m# The minimum recommended version for the ecCodes package\u001b[39;00m\n",
      "File \u001b[0;32m~/.local/lib/python3.8/site-packages/gribapi/gribapi.py:34\u001b[0m, in \u001b[0;36m<module>\u001b[0;34m\u001b[0m\n\u001b[1;32m     <a href='file:///~/.local/lib/python3.8/site-packages/gribapi/gribapi.py?line=29'>30</a>\u001b[0m \u001b[39mfrom\u001b[39;00m \u001b[39mfunctools\u001b[39;00m \u001b[39mimport\u001b[39;00m wraps\n\u001b[1;32m     <a href='file:///~/.local/lib/python3.8/site-packages/gribapi/gribapi.py?line=31'>32</a>\u001b[0m \u001b[39mimport\u001b[39;00m \u001b[39mnumpy\u001b[39;00m \u001b[39mas\u001b[39;00m \u001b[39mnp\u001b[39;00m\n\u001b[0;32m---> <a href='file:///~/.local/lib/python3.8/site-packages/gribapi/gribapi.py?line=33'>34</a>\u001b[0m \u001b[39mfrom\u001b[39;00m \u001b[39m.\u001b[39;00m \u001b[39mimport\u001b[39;00m errors\n\u001b[1;32m     <a href='file:///~/.local/lib/python3.8/site-packages/gribapi/gribapi.py?line=34'>35</a>\u001b[0m \u001b[39mfrom\u001b[39;00m \u001b[39m.\u001b[39;00m\u001b[39mbindings\u001b[39;00m \u001b[39mimport\u001b[39;00m ENC\n\u001b[1;32m     <a href='file:///~/.local/lib/python3.8/site-packages/gribapi/gribapi.py?line=35'>36</a>\u001b[0m \u001b[39mfrom\u001b[39;00m \u001b[39m.\u001b[39;00m\u001b[39mbindings\u001b[39;00m \u001b[39mimport\u001b[39;00m __version__ \u001b[39mas\u001b[39;00m bindings_version  \u001b[39m# noqa\u001b[39;00m\n",
      "File \u001b[0;32m~/.local/lib/python3.8/site-packages/gribapi/errors.py:16\u001b[0m, in \u001b[0;36m<module>\u001b[0;34m\u001b[0m\n\u001b[1;32m      <a href='file:///~/.local/lib/python3.8/site-packages/gribapi/errors.py?line=0'>1</a>\u001b[0m \u001b[39m#\u001b[39;00m\n\u001b[1;32m      <a href='file:///~/.local/lib/python3.8/site-packages/gribapi/errors.py?line=1'>2</a>\u001b[0m \u001b[39m# (C) Copyright 2017- ECMWF.\u001b[39;00m\n\u001b[1;32m      <a href='file:///~/.local/lib/python3.8/site-packages/gribapi/errors.py?line=2'>3</a>\u001b[0m \u001b[39m#\u001b[39;00m\n\u001b[0;32m   (...)\u001b[0m\n\u001b[1;32m      <a href='file:///~/.local/lib/python3.8/site-packages/gribapi/errors.py?line=8'>9</a>\u001b[0m \u001b[39m# does it submit to any jurisdiction.\u001b[39;00m\n\u001b[1;32m     <a href='file:///~/.local/lib/python3.8/site-packages/gribapi/errors.py?line=9'>10</a>\u001b[0m \u001b[39m#\u001b[39;00m\n\u001b[1;32m     <a href='file:///~/.local/lib/python3.8/site-packages/gribapi/errors.py?line=11'>12</a>\u001b[0m \u001b[39m\"\"\"\u001b[39;00m\n\u001b[1;32m     <a href='file:///~/.local/lib/python3.8/site-packages/gribapi/errors.py?line=12'>13</a>\u001b[0m \u001b[39mException class hierarchy\u001b[39;00m\n\u001b[1;32m     <a href='file:///~/.local/lib/python3.8/site-packages/gribapi/errors.py?line=13'>14</a>\u001b[0m \u001b[39m\"\"\"\u001b[39;00m\n\u001b[0;32m---> <a href='file:///~/.local/lib/python3.8/site-packages/gribapi/errors.py?line=15'>16</a>\u001b[0m \u001b[39mfrom\u001b[39;00m \u001b[39m.\u001b[39;00m\u001b[39mbindings\u001b[39;00m \u001b[39mimport\u001b[39;00m ENC, ffi, lib\n\u001b[1;32m     <a href='file:///~/.local/lib/python3.8/site-packages/gribapi/errors.py?line=18'>19</a>\u001b[0m \u001b[39mclass\u001b[39;00m \u001b[39mGribInternalError\u001b[39;00m(\u001b[39mException\u001b[39;00m):\n\u001b[1;32m     <a href='file:///~/.local/lib/python3.8/site-packages/gribapi/errors.py?line=19'>20</a>\u001b[0m     \u001b[39m\"\"\"\u001b[39;00m\n\u001b[1;32m     <a href='file:///~/.local/lib/python3.8/site-packages/gribapi/errors.py?line=20'>21</a>\u001b[0m \u001b[39m    @brief Wrap errors coming from the C API in a Python exception object.\u001b[39;00m\n\u001b[1;32m     <a href='file:///~/.local/lib/python3.8/site-packages/gribapi/errors.py?line=21'>22</a>\u001b[0m \n\u001b[1;32m     <a href='file:///~/.local/lib/python3.8/site-packages/gribapi/errors.py?line=22'>23</a>\u001b[0m \u001b[39m    Base class for all exceptions\u001b[39;00m\n\u001b[1;32m     <a href='file:///~/.local/lib/python3.8/site-packages/gribapi/errors.py?line=23'>24</a>\u001b[0m \u001b[39m    \"\"\"\u001b[39;00m\n",
      "File \u001b[0;32m~/.local/lib/python3.8/site-packages/gribapi/bindings.py:35\u001b[0m, in \u001b[0;36m<module>\u001b[0;34m\u001b[0m\n\u001b[1;32m     <a href='file:///~/.local/lib/python3.8/site-packages/gribapi/bindings.py?line=32'>33</a>\u001b[0m library_path \u001b[39m=\u001b[39m findlibs\u001b[39m.\u001b[39mfind(\u001b[39m\"\u001b[39m\u001b[39meccodes\u001b[39m\u001b[39m\"\u001b[39m)\n\u001b[1;32m     <a href='file:///~/.local/lib/python3.8/site-packages/gribapi/bindings.py?line=33'>34</a>\u001b[0m \u001b[39mif\u001b[39;00m library_path \u001b[39mis\u001b[39;00m \u001b[39mNone\u001b[39;00m:\n\u001b[0;32m---> <a href='file:///~/.local/lib/python3.8/site-packages/gribapi/bindings.py?line=34'>35</a>\u001b[0m     \u001b[39mraise\u001b[39;00m \u001b[39mRuntimeError\u001b[39;00m(\u001b[39m\"\u001b[39m\u001b[39mCannot find the ecCodes library\u001b[39m\u001b[39m\"\u001b[39m)\n\u001b[1;32m     <a href='file:///~/.local/lib/python3.8/site-packages/gribapi/bindings.py?line=36'>37</a>\u001b[0m \u001b[39m# default encoding for ecCodes strings\u001b[39;00m\n\u001b[1;32m     <a href='file:///~/.local/lib/python3.8/site-packages/gribapi/bindings.py?line=37'>38</a>\u001b[0m ENC \u001b[39m=\u001b[39m \u001b[39m\"\u001b[39m\u001b[39mascii\u001b[39m\u001b[39m\"\u001b[39m\n",
      "\u001b[0;31mRuntimeError\u001b[0m: Cannot find the ecCodes library"
     ]
    }
   ],
   "source": [
    "import xarray as xr\n",
    "import geopandas as gpd\n",
    "from shapely.geometry import Point\n",
    "import numpy as np\n",
    "import geopy.distance\n",
    "import csv \n",
    "   \n",
    " \n",
    "data_folder = '/home/graham/code/thesis/data/'\n",
    "cVeg_data = xr.open_dataset(data_folder + 'cVeg_Lmon_CESM2_land-hist_r1i1p1f1_gn_185001-201512.nc')\n",
    "zips = gpd.read_file('/home/graham/code/thesis/data/boreal_reduced.shp')\n",
    "cVeg_data = cVeg_data.groupby('time.year').mean('time')\n",
    "cVeg_data = cVeg_data.isel(lat=np.logical_and(cVeg_data.lat<80,cVeg_data.lat > 50))\n",
    "cVeg_data = cVeg_data.isel(lon=np.logical_and(cVeg_data.lon-360>-170,cVeg_data.lon-360 <-50))\n",
    "cVeg_data = cVeg_data.isel(year=cVeg_data.year>1983)\n",
    "\n",
    "for year in cVeg_data['year'].values:    \n",
    "    total_gpp = 0\n",
    "    total_agb = 0\n",
    "    print(year)\n",
    "    for lat_index in range(len(cVeg_data['lat'].values)-1):\n",
    "        for lon_index in range(len(cVeg_data['lon'].values)-1):\n",
    "            lat = cVeg_data['lat'].data[lat_index]\n",
    "            lon = cVeg_data['lon'].data[lon_index]         \n",
    "            next_lat = cVeg_data['lat'].data[lat_index+1]\n",
    "            next_lon = cVeg_data['lon'].data[lon_index+1]   \n",
    "            squared_kilometers_long = geopy.distance.distance((lat,lon), (lat,next_lon)).km\n",
    "            squared_kilometers = geopy.distance.distance((lat,lon), (next_lat,lon)).km\n",
    "            area = squared_kilometers * squared_kilometers_long\n",
    "            lon_scaled = lon - 360 if lon > 180 else lon\n",
    "            point = Point(lon_scaled,lat)\n",
    "            if(not np.all(zips['geometry'].contains(point))):\n",
    "                continue\n",
    "          "
   ]
  },
  {
   "cell_type": "code",
   "execution_count": 1,
   "metadata": {},
   "outputs": [
    {
     "name": "stdout",
     "output_type": "stream",
     "text": [
      "                                            geometry    TYPE           HA  \\\n",
      "0  MULTIPOLYGON (((-2557088.500 6618536.500, -255...  BOREAL  513433902.0   \n",
      "\n",
      "  COUNTRY  \n",
      "0  CANADA                                               geometry   id\n",
      "0  MULTIPOLYGON (((-53.68390 47.00246, -53.69147 ...  123\n"
     ]
    }
   ],
   "source": [
    "import geopandas as gpd\n",
    "\n",
    "boreal = gpd.read_file('/home/graham/Downloads/boreal/NABoreal.shp')\n",
    "boreal_reduced = gpd.read_file('/home/graham/code/thesis/data/boreal_reduced.shp')\n",
    "x = boreal.dissolve()\n",
    "y = boreal_reduced.dissolve()\n",
    "print(x,y)"
   ]
  },
  {
   "cell_type": "code",
   "execution_count": null,
   "metadata": {},
   "outputs": [],
   "source": []
  }
 ],
 "metadata": {
  "interpreter": {
   "hash": "916dbcbb3f70747c44a77c7bcd40155683ae19c65e1c03b4aa3499c5328201f1"
  },
  "kernelspec": {
   "display_name": "Python 3.8.10 64-bit",
   "language": "python",
   "name": "python3"
  },
  "language_info": {
   "codemirror_mode": {
    "name": "ipython",
    "version": 3
   },
   "file_extension": ".py",
   "mimetype": "text/x-python",
   "name": "python",
   "nbconvert_exporter": "python",
   "pygments_lexer": "ipython3",
   "version": "3.8.10"
  },
  "orig_nbformat": 4
 },
 "nbformat": 4,
 "nbformat_minor": 2
}
